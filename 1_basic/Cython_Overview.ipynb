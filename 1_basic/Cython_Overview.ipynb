{
 "cells": [
  {
   "cell_type": "markdown",
   "metadata": {},
   "source": [
    "# Optimizing Python with Cython: Part I\n",
    "\n",
    "Python's key advantages are its flexibility, large number of freely available libaries, and low development overhead. Its main disadvantage is speed, which is generally comparable to what you can expect from MATLAB. Since computers are fast these days, execution speed often doesn't matter very much compared to development time. However, in the case that you're writing a performance-intensive code where speed is critical, you should certainly not be using Python.\n",
    "\n",
    "Sometimes a code's execution is dominated by just a few performance-intensive tasks, while the rest of the program performs utility-type operations that Python excels at. In this case, the extra development overhead incurred by using a language like C++ doesn't always make sense. Instead, it's preferrable to develop the program as a whole in Python, and optimize out the few performance-intensive portions to C, C++, or FORTRAN -- since Python is written in C, it's these first two that tend to work the best. There are a variety of ways to go about this (an <a href=\"https://www.paypal-engineering.com/2016/09/22/python-by-the-c-side/\" target=\"_blank\">overview</a> from 2016 can be found on the Paypal engineering blog) but this notebook is going to focus on Cython specifically.\n",
    "\n",
    "Cython is <a href=\"http://docs.cython.org/en/latest/src/quickstart/overview.html\" target=\"_blank\">described</a> as a \"superset\" of the Python language which allows easy integration of C extensions into base Python code. It uses a purpose-built compiler to translate Cython into C code, which can then be compiled and imported as a standard C extension for Python. Note that there's nothing stopping you from simply writing C extensions yourself; Python is intended to allow this functionality. Cython just makes it simpler.\n",
    "\n",
    "Aside from providing a nice speedup, Cython also allows you to bring in C libraries with a minimum amount of hassle. It has support for multi-threading, but I get the sense that writing codes which scale well with large numbers of processors is ultimately going to end badly, and goes past the intended use case of Cython. It's not something I've examined in detail, though.\n",
    "\n",
    "This is intended to be Part I of a series of tutorials on Cython that will be written as time permits. In this installment, I'll go through a simple test case and then provide some pointers on how to actually compile Cython code outside of the Jupyter environment that I'm using here.\n",
    "\n",
    "First, I'll point out that I ran into some immediate trouble compiling, as Cython was unable to find a required \"vcvarsall.bat\" file. (This was using the Python 3 installation of Anaconda). Fortunately, I was not alone in this problem; a general explanation of the issue is provided by <a href=\"https://blogs.msdn.microsoft.com/pythonengineering/2016/04/11/unable-to-find-vcvarsall-bat/\" target=\"_blank\">Microsoft</a> with a specific Cython-related explanation given at the <a href=\"https://www.ibm.com/developerworks/community/blogs/jfp/entry/Installing_Cython_On_Anaconda_On_Windows?lang=en\" target=\"_blank\">IBM Community</a> website. The bottom line is that the problem can be rectified by installing Visual C++ Build Tools 2015, available for <a href=\"http://go.microsoft.com/fwlink/?LinkId=691126\" target=\"_blank\">download</a> from Microsoft. This fixed the issue.\n",
    "\n",
    "## Some Useful Links\n",
    "\n",
    "<a href=\"http://docs.cython.org/en/latest/src/quickstart/cythonize.html\" target=\"_blank\">Cython Quickstart Guide</a><br>\n",
    "<a href=\"http://docs.cython.org/en/latest/src/quickstart/build.html\" target=\"_blank\">Cython Quick Build Guide</a><br>\n",
    "<a href=\"https://github.com/rkern/line_profiler\" target=\"_blank\">Line Profile Tool; Profile Before you Optimize!</a><br>\n",
    "<a href=\"http://conference.scipy.org/static/wiki/seljebotn_cython.pdf\" target=\"_blank\">Cython Overview from SciPy Conference</a><br>\n",
    "<a href=\"http://cython.readthedocs.io/en/latest/src/tutorial/numpy.html\" target=\"_blank\">Cython Tutorial for NumPy Users</a><br>\n",
    "<a href=\"https://www.ibm.com/developerworks/community/blogs/jfp/entry/Installing_Cython_On_Anaconda_On_Windows?lang=en\" target=\"_blank\">Explanation of vcvarsall.bat Issue with Anaconda</a><br>\n",
    "<a href=\"http://go.microsoft.com/fwlink/?LinkId=691126\" target=\"_blank\">Visual C++ Build Tools 2015 [Download]</a><br>"
   ]
  },
  {
   "cell_type": "markdown",
   "metadata": {},
   "source": [
    "# A Test Case\n",
    "\n",
    "For now, we'll use a modified example taken from the <a href=\"http://docs.cython.org/en/latest/src/quickstart/cythonize.html\" target=\"_blank\">Cython Quickstart Guide</a>. I've changed their example function to use some slightly more costly trig functions, and also made sure to compare Python and Cython with a vectorized Numpy implementation, which provides a nice speedup without any fancy compilation. We'll numerically evaluate the integral\n",
    "\n",
    "$$\n",
    "J = \\int_a^b \\sin(x)\\cos(x)dx\n",
    "$$\n",
    "\n",
    "over the interval $0$ to $\\pi/2$, which evaluates to $J = 0.5$. In base Python, this is performed using a **for** loop across a set of $N$ bins. In NumPy, the numerical integration can be easily vectorized. Both versions are implemented and timed below for $N = 500000$ bins. (Note the use of the built-in Jupyter \"timeit\" function to evaluate the runtime of each version).\n",
    "\n",
    "\n",
    "\n"
   ]
  },
  {
   "cell_type": "code",
   "execution_count": 1,
   "metadata": {
    "collapsed": false
   },
   "outputs": [
    {
     "name": "stdout",
     "output_type": "stream",
     "text": [
      "Base Python returns an integration of 0.500000 (exact answer is 0.5)\n",
      "Vectorized Numpy returns an integration of 0.500000 (exact answer is 0.5)\n",
      "Base Python: 253.8 ms\n",
      "Vectorized Numpy: 11.7 ms (21.7x faster than base Python)\n"
     ]
    }
   ],
   "source": [
    "# Base Python with Numpy\n",
    "import numpy as np\n",
    "import math\n",
    "\n",
    "# Functions to be evaluated\n",
    "def fpy(x):\n",
    "    return math.sin(x)*math.cos(x)\n",
    "\n",
    "def fnp(x):\n",
    "    return np.sin(x)*np.cos(x)\n",
    "\n",
    "# Functions which perform integration\n",
    "def integrate_python(a, b, N):\n",
    "    s = 0\n",
    "    dx = (b-a)/N\n",
    "    for i in range(N):\n",
    "        s += fpy(a+i*dx)\n",
    "    return s*dx\n",
    "\n",
    "def integrate_numpy(a, b, N):\n",
    "    x = np.linspace(a, b, N + 1)\n",
    "    dx = (b - a)/N\n",
    "    return dx*np.sum(fnp(x)[:-1])\n",
    "\n",
    "# Convenience function to display \"timeit\" results\n",
    "def evalTime(x, name, ref = False):\n",
    "    \n",
    "    string = '%s: %.1f ms' % (name, x.best*1000)\n",
    "    if ref:\n",
    "        string += ' (%.1fx faster than base Python)' % (ref/x.best)\n",
    "    print(string)\n",
    "\n",
    "# Values for test case\n",
    "a = 0.0\n",
    "b = 0.5*np.pi\n",
    "N = 500000\n",
    "\n",
    "# Make sure integrations work properly\n",
    "testVal1 = integrate_python(a, b, N)\n",
    "testVal2 = integrate_numpy(a, b, N)\n",
    "\n",
    "print('Base Python returns an integration of %.6f (exact answer is 0.5)' % testVal1)\n",
    "print('Vectorized Numpy returns an integration of %.6f (exact answer is 0.5)' % testVal2)\n",
    "\n",
    "# Compare evaluation time for each version of the integration function\n",
    "y = %timeit -n 3 -o -q integrate_python(a, b, N)    \n",
    "evalTime(y, 'Base Python')\n",
    "x = %timeit -n 3 -o -q integrate_numpy(a, b, N)    \n",
    "evalTime(x, 'Vectorized Numpy', ref = y.best)\n"
   ]
  },
  {
   "cell_type": "markdown",
   "metadata": {},
   "source": [
    "As expected, the vectorized version does much better than raw Python with a **for** loop, achieving a **~22x** speedup. Now let's see what Cython can do. In the Jupyter notebook environment, a special \"magic\" call **%load_ext Cython** must be evaluated prior to compiling or running any Cython code."
   ]
  },
  {
   "cell_type": "code",
   "execution_count": 2,
   "metadata": {
    "collapsed": false
   },
   "outputs": [],
   "source": [
    "# Use this command to load up the extension for use in a Jupyter notebook\n",
    "%load_ext Cython"
   ]
  },
  {
   "cell_type": "markdown",
   "metadata": {},
   "source": [
    "It's possible to simply compile basic Python code without alteration, but from what I've seen so far that will actually result in slower execution. Instead, we can make some relatively minor modifications to the existing Python code in order to speed it up. The most obvious thing to do is add static type declarations. When using Numpy we can get very specific about numerical types, but for now we'll just stick with **int** and **double**. We aren't assigning types to function outputs yet, only to the inputs and local variables."
   ]
  },
  {
   "cell_type": "code",
   "execution_count": 3,
   "metadata": {
    "collapsed": false
   },
   "outputs": [
    {
     "name": "stdout",
     "output_type": "stream",
     "text": [
      "Returns an integration of 0.500000 (exact answer is 0.5)\n"
     ]
    }
   ],
   "source": [
    "%%cython\n",
    "\n",
    "import math\n",
    "# Now let's make some key type declarations in order to obtain an additional speedup.\n",
    "def f(double x):\n",
    "    return math.sin(x)*math.cos(x)\n",
    "\n",
    "\n",
    "def integrate_cython_types(double a, double b, int N): # Add types to function signature\n",
    "    cdef int i # Declare using \"cdef\"\n",
    "    cdef double s, dx # Declare using \"cdef\"\n",
    "    \n",
    "    s = 0\n",
    "    dx = (b - a)/N\n",
    "    for i in range(N):\n",
    "        s += f(a+i*dx)\n",
    "    return s*dx\n",
    "\n",
    "# Test the function. Note that Cython creates its own environment so we have to redefine these variables.\n",
    "a = 0\n",
    "b = 0.5*math.pi\n",
    "N = 500000\n",
    "testVal = integrate_cython_types(a, b, N)\n",
    "print('Returns an integration of %.6f (exact answer is 0.5)' % testVal)\n"
   ]
  },
  {
   "cell_type": "code",
   "execution_count": 4,
   "metadata": {
    "collapsed": false
   },
   "outputs": [
    {
     "name": "stdout",
     "output_type": "stream",
     "text": [
      "Cython with Types: 151.6 ms (1.7x faster than base Python)\n"
     ]
    }
   ],
   "source": [
    "x = %timeit -n 3 -o -q integrate_cython_types(a, b, N)    \n",
    "evalTime(x, 'Cython with Types', ref = y.best)"
   ]
  },
  {
   "cell_type": "markdown",
   "metadata": {},
   "source": [
    "This results in a not-very-impressive speedup of **~1.7x** over base Python. \n",
    "\n",
    "The next step is to replace those expensive trig functions with their counterparts from the libc math library. Using Cython, these can be imported just as you would any other module:"
   ]
  },
  {
   "cell_type": "code",
   "execution_count": 5,
   "metadata": {
    "collapsed": false
   },
   "outputs": [
    {
     "name": "stdout",
     "output_type": "stream",
     "text": [
      "Returns an integration of 0.500000 (exact answer is 0.5)\n"
     ]
    }
   ],
   "source": [
    "%%cython\n",
    "\n",
    "import numpy as np\n",
    "from libc.math cimport sin, cos, pi\n",
    "# In addition to type declarations, replace numpy math functions with libc math.\n",
    "def f(double x):\n",
    "    return sin(x)*cos(x)\n",
    "\n",
    "\n",
    "def integrate_cython_libc(double a, double b, int N): # Add types to function signature\n",
    "    cdef int i # Declare using \"cdef\"\n",
    "    cdef double s, dx # Declare using \"cdef\"\n",
    "    \n",
    "    s = 0\n",
    "    dx = (b-a)/N\n",
    "    for i in range(N):\n",
    "        s += f(a+i*dx)\n",
    "    return s*dx\n",
    "\n",
    "# Test the function\n",
    "a = 0\n",
    "b = 0.5*pi\n",
    "N = 500000\n",
    "testVal = integrate_cython_libc(a, b, N)\n",
    "print('Returns an integration of %.6f (exact answer is 0.5)' % testVal)\n"
   ]
  },
  {
   "cell_type": "code",
   "execution_count": 6,
   "metadata": {
    "collapsed": false
   },
   "outputs": [
    {
     "name": "stdout",
     "output_type": "stream",
     "text": [
      "Cython with libc: 30.9 ms (8.2x faster than base Python)\n"
     ]
    }
   ],
   "source": [
    "x = %timeit -n 3 -o -q integrate_cython_libc(a, b, N)    \n",
    "evalTime(x, 'Cython with libc', ref = y.best)"
   ]
  },
  {
   "cell_type": "markdown",
   "metadata": {},
   "source": [
    "Now we're getting somewhere: Replacing the function calls results in an **~8x** speedup. We're still quite a bit slower than just Numpy, however. The next step is to tell Cython to treat the repeatedly evaluated function **f** as a C function by declaring it with **cdef** and assigning a type to its output. An exception handling statement must also be added to any function which uses **cdef** -- see the actual Cython documentation for an explanation of how that works. Using **except* ** is a generally-applicable solution that comes with a very slight overhead.\n",
    "\n",
    "Function defined with **cdef** can only be called from within the compiled Cython environment, so we use regular **def** on the integration function which is called in the cell below. **cpdef** allows a function to be defined as C-style while still being called by other Python functions, but isn't necessary for use here. "
   ]
  },
  {
   "cell_type": "code",
   "execution_count": 7,
   "metadata": {
    "collapsed": false
   },
   "outputs": [
    {
     "name": "stdout",
     "output_type": "stream",
     "text": [
      "Returns an integration of 0.500000 (exact answer is 0.5)\n"
     ]
    }
   ],
   "source": [
    "%%cython\n",
    "\n",
    "# In addition to type declarations, replace the numpy calls with calls to C standard library.\n",
    "import cython\n",
    "from libc.math cimport sin, cos, pi\n",
    "\n",
    "# Declare as a C function (cdef)\n",
    "cdef double f(double x) except*:  # Add types to function signature\n",
    "    return sin(x)*cos(x)\n",
    "\n",
    "def integrate_cython_cfun(double a, double b, int N):  # Add types to function signature\n",
    "    cdef int i  # Declare using \"cdef\"\n",
    "    cdef double s, dx  # Declare using \"cdef\"\n",
    "    \n",
    "    s = 0\n",
    "    dx = (b-a)/N\n",
    "    for i in range(N):\n",
    "        s += f(a+i*dx)\n",
    "    return s * dx\n",
    "    \n",
    "# Test the function\n",
    "a = 0\n",
    "b = 0.5*pi\n",
    "N = 500000\n",
    "testVal = integrate_cython_cfun(a, b, N)\n",
    "print('Returns an integration of %.6f (exact answer is 0.5)' % testVal)"
   ]
  },
  {
   "cell_type": "code",
   "execution_count": 8,
   "metadata": {
    "collapsed": false
   },
   "outputs": [
    {
     "name": "stdout",
     "output_type": "stream",
     "text": [
      "Cython with C functions: 7.2 ms (35.2x faster than base Python)\n"
     ]
    }
   ],
   "source": [
    "x = %timeit -n 3 -o -q integrate_cython_cfun(a, b, N)    \n",
    "evalTime(x, 'Cython with C functions', ref = y.best)"
   ]
  },
  {
   "cell_type": "markdown",
   "metadata": {},
   "source": [
    "That's more like it: With a full set of optimization in place, the Cython version can finally beat Numpy, with a speedup of **~35x**. Some additional optimization flags are also available -- disabling various checks such as bounds checking, division by zero, etc. -- but they don't really apply to this case. "
   ]
  },
  {
   "cell_type": "markdown",
   "metadata": {},
   "source": [
    "## Compiling and Importing\n",
    "\n",
    "The example above showed how to write the syntax for Cython files, with Jupyter taking care compiling and running the code. In practice, we'll need to be able to compile Cython files ourselves and be prepared for the pain that comes with sharing compiled code across platforms. \n",
    "\n",
    "There are a few ways to compile Cython programs, but the recommended method is to use Python's distutils functionality with a \"setup.py\" file. Suppose the program we want to compile is located in <a href=\"pyfiles/integrate.pyx\" target=\"_blank\">integrate.pyx</a>:"
   ]
  },
  {
   "cell_type": "code",
   "execution_count": null,
   "metadata": {
    "collapsed": false
   },
   "outputs": [],
   "source": [
    "# Standalone version of the demo integration function.\n",
    "\n",
    "import cython\n",
    "from libc.math cimport sin, cos\n",
    "\n",
    "# Declare as a C function (cdef)\n",
    "cdef double f(double x) except*:  # Add types to function signature\n",
    "    return sin(x)*cos(x)\n",
    "\n",
    "# Declare as a C/python function (cpdef)\n",
    "@cython.cdivision(True)  # Remove error checking on python division\n",
    "cpdef double integrate(double a, double b, int N) except*:  # Add types to function signature\n",
    "    cdef int i  # Declare using \"cdef\"\n",
    "    cdef double s, dx  # Declare using \"cdef\"\n",
    "    \n",
    "    s = 0\n",
    "    dx = (b-a)/N\n",
    "    for i in range(N):\n",
    "        s += f(a+i*dx)\n",
    "    return s * dx\n"
   ]
  },
  {
   "cell_type": "markdown",
   "metadata": {},
   "source": [
    "To compile, write a <a href=\"pyfiles/setup.py\" target=\"_blank\">setup.py</a> file as below:"
   ]
  },
  {
   "cell_type": "code",
   "execution_count": null,
   "metadata": {
    "collapsed": true
   },
   "outputs": [],
   "source": [
    "from distutils.core import setup\n",
    "from Cython.Build import cythonize\n",
    "\n",
    "setup(\n",
    "    name = 'Cython Demo',\n",
    "    ext_modules = cythonize(\"integrate.pyx\")\n",
    "    )\n"
   ]
  },
  {
   "cell_type": "markdown",
   "metadata": {},
   "source": [
    "Then, the program is compiled by typing ```python setup.py build_ext --inplace``` at the command line. Once compilation is complete, the ```integrate``` module can be imported as usual, as shown by the <a href=\"pyfiles/demo.py\" target=\"_blank\">demo.py</a> script below:"
   ]
  },
  {
   "cell_type": "code",
   "execution_count": null,
   "metadata": {
    "collapsed": false
   },
   "outputs": [],
   "source": [
    "import integrate\n",
    "import numpy as np\n",
    "\n",
    "a = 0\n",
    "b = np.pi/2\n",
    "N = 500000\n",
    "\n",
    "x = integrate.integrate(a, b, N) # Should return 0.5\n",
    "\n",
    "print('Cython integration returns %.4f (the answer is %.4f)' % (x, 0.5))\n"
   ]
  }
 ],
 "metadata": {
  "kernelspec": {
   "display_name": "Python 3",
   "language": "python",
   "name": "python3"
  },
  "language_info": {
   "codemirror_mode": {
    "name": "ipython",
    "version": 3
   },
   "file_extension": ".py",
   "mimetype": "text/x-python",
   "name": "python",
   "nbconvert_exporter": "python",
   "pygments_lexer": "ipython3",
   "version": "3.6.0"
  }
 },
 "nbformat": 4,
 "nbformat_minor": 2
}
